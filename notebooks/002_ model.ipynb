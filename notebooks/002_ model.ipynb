{
 "cells": [
  {
   "cell_type": "markdown",
   "id": "3dccb011",
   "metadata": {},
   "source": [
    "# 02_Model_Training\n",
    "This notebook trains and evaluates classification models to predict product condition (new vs used).\n"
   ]
  },
  {
   "cell_type": "markdown",
   "id": "4d766c3c",
   "metadata": {},
   "source": [
    "### Enviroment"
   ]
  },
  {
   "cell_type": "code",
   "execution_count": 46,
   "id": "e5baa3c9",
   "metadata": {},
   "outputs": [],
   "source": [
    "import os \n",
    "import pandas as pd\n",
    "import numpy as np\n",
    "import logging\n",
    "import matplotlib.pyplot as plt\n",
    "import seaborn as sns\n",
    "\n",
    "from sklearn.model_selection import train_test_split, GridSearchCV\n",
    "from sklearn.pipeline import Pipeline\n",
    "from sklearn.preprocessing import StandardScaler\n",
    "from sklearn.linear_model import LogisticRegression\n",
    "from sklearn.ensemble import RandomForestClassifier\n",
    "from sklearn.metrics import classification_report, roc_auc_score, confusion_matrix\n",
    "import joblib\n",
    "logging.basicConfig(level=logging.INFO, format='%(asctime)s - %(levelname)s - %(message)s')\n"
   ]
  },
  {
   "cell_type": "code",
   "execution_count": 2,
   "id": "8b708fc1",
   "metadata": {},
   "outputs": [
    {
     "name": "stdout",
     "output_type": "stream",
     "text": [
      "Current directory before change: c:\\Users\\Administrador\\Desktop\\ml_excercise\\notebooks\n",
      "Current directory after change: c:\\Users\\Administrador\\Desktop\\ml_excercise\n"
     ]
    }
   ],
   "source": [
    "print(\"Current directory before change:\", os.getcwd())\n",
    "\n",
    "try:\n",
    "    \n",
    "    os.chdir(\"../\")\n",
    "    print(\"Current directory after change:\", os.getcwd())\n",
    "\n",
    "except FileNotFoundError:\n",
    "    print(\"\"\"\n",
    "        FileNotFoundError - The specified directory does not exist or you are already in the root.\n",
    "        If the code already worked once, do not run it again.\n",
    "    \"\"\")"
   ]
  },
  {
   "cell_type": "code",
   "execution_count": 33,
   "id": "15aa3be8",
   "metadata": {},
   "outputs": [
    {
     "name": "stderr",
     "output_type": "stream",
     "text": [
      "2025-05-09 12:54:18,471 - INFO - Loaded data with shape: (100000, 10)\n"
     ]
    },
    {
     "data": {
      "text/html": [
       "<div>\n",
       "<style scoped>\n",
       "    .dataframe tbody tr th:only-of-type {\n",
       "        vertical-align: middle;\n",
       "    }\n",
       "\n",
       "    .dataframe tbody tr th {\n",
       "        vertical-align: top;\n",
       "    }\n",
       "\n",
       "    .dataframe thead th {\n",
       "        text-align: right;\n",
       "    }\n",
       "</style>\n",
       "<table border=\"1\" class=\"dataframe\">\n",
       "  <thead>\n",
       "    <tr style=\"text-align: right;\">\n",
       "      <th></th>\n",
       "      <th>condition</th>\n",
       "      <th>listing_type_id</th>\n",
       "      <th>price</th>\n",
       "      <th>buying_mode</th>\n",
       "      <th>status</th>\n",
       "      <th>initial_quantity</th>\n",
       "      <th>available_quantity</th>\n",
       "      <th>free_shipping</th>\n",
       "      <th>shipping_mode</th>\n",
       "      <th>non_mp_pay_count</th>\n",
       "    </tr>\n",
       "  </thead>\n",
       "  <tbody>\n",
       "    <tr>\n",
       "      <th>0</th>\n",
       "      <td>0</td>\n",
       "      <td>bronze</td>\n",
       "      <td>80.0</td>\n",
       "      <td>1</td>\n",
       "      <td>0</td>\n",
       "      <td>1</td>\n",
       "      <td>1</td>\n",
       "      <td>False</td>\n",
       "      <td>3</td>\n",
       "      <td>3</td>\n",
       "    </tr>\n",
       "    <tr>\n",
       "      <th>1</th>\n",
       "      <td>1</td>\n",
       "      <td>silver</td>\n",
       "      <td>2650.0</td>\n",
       "      <td>1</td>\n",
       "      <td>0</td>\n",
       "      <td>1</td>\n",
       "      <td>1</td>\n",
       "      <td>False</td>\n",
       "      <td>2</td>\n",
       "      <td>2</td>\n",
       "    </tr>\n",
       "    <tr>\n",
       "      <th>2</th>\n",
       "      <td>1</td>\n",
       "      <td>bronze</td>\n",
       "      <td>60.0</td>\n",
       "      <td>1</td>\n",
       "      <td>0</td>\n",
       "      <td>1</td>\n",
       "      <td>1</td>\n",
       "      <td>False</td>\n",
       "      <td>2</td>\n",
       "      <td>3</td>\n",
       "    </tr>\n",
       "    <tr>\n",
       "      <th>3</th>\n",
       "      <td>0</td>\n",
       "      <td>silver</td>\n",
       "      <td>580.0</td>\n",
       "      <td>1</td>\n",
       "      <td>0</td>\n",
       "      <td>1</td>\n",
       "      <td>1</td>\n",
       "      <td>False</td>\n",
       "      <td>2</td>\n",
       "      <td>3</td>\n",
       "    </tr>\n",
       "    <tr>\n",
       "      <th>4</th>\n",
       "      <td>1</td>\n",
       "      <td>bronze</td>\n",
       "      <td>30.0</td>\n",
       "      <td>1</td>\n",
       "      <td>0</td>\n",
       "      <td>1</td>\n",
       "      <td>1</td>\n",
       "      <td>False</td>\n",
       "      <td>3</td>\n",
       "      <td>3</td>\n",
       "    </tr>\n",
       "  </tbody>\n",
       "</table>\n",
       "</div>"
      ],
      "text/plain": [
       "   condition listing_type_id   price  buying_mode  status  initial_quantity  \\\n",
       "0          0          bronze    80.0            1       0                 1   \n",
       "1          1          silver  2650.0            1       0                 1   \n",
       "2          1          bronze    60.0            1       0                 1   \n",
       "3          0          silver   580.0            1       0                 1   \n",
       "4          1          bronze    30.0            1       0                 1   \n",
       "\n",
       "   available_quantity  free_shipping  shipping_mode  non_mp_pay_count  \n",
       "0                   1          False              3                 3  \n",
       "1                   1          False              2                 2  \n",
       "2                   1          False              2                 3  \n",
       "3                   1          False              2                 3  \n",
       "4                   1          False              3                 3  "
      ]
     },
     "execution_count": 33,
     "metadata": {},
     "output_type": "execute_result"
    }
   ],
   "source": [
    "df = pd.read_csv('data_clean/mla_eda.csv')\n",
    "logging.info(f\"Loaded data with shape: {df.shape}\")\n",
    "\n",
    "df.head()"
   ]
  },
  {
   "cell_type": "code",
   "execution_count": 34,
   "id": "65c11c46",
   "metadata": {},
   "outputs": [
    {
     "name": "stdout",
     "output_type": "stream",
     "text": [
      "['bronze' 'silver' 'free' 'gold_special' 'gold' 'gold_premium' 'gold_pro']\n"
     ]
    }
   ],
   "source": [
    "unique_listing_type = df['listing_type_id'].unique()\n",
    "print(unique_listing_type)"
   ]
  },
  {
   "cell_type": "code",
   "execution_count": 35,
   "id": "c28528d0",
   "metadata": {},
   "outputs": [
    {
     "name": "stdout",
     "output_type": "stream",
     "text": [
      "[False  True]\n"
     ]
    }
   ],
   "source": [
    "unique = df['free_shipping'].unique()\n",
    "print(unique)"
   ]
  },
  {
   "cell_type": "code",
   "execution_count": 36,
   "id": "c6d8f72a",
   "metadata": {},
   "outputs": [
    {
     "data": {
      "text/plain": [
       "condition                         int64\n",
       "price                           float64\n",
       "buying_mode                       int64\n",
       "status                            int64\n",
       "initial_quantity                  int64\n",
       "available_quantity                int64\n",
       "free_shipping                     int32\n",
       "shipping_mode                     int64\n",
       "non_mp_pay_count                  int64\n",
       "listing_type_id_free               bool\n",
       "listing_type_id_gold               bool\n",
       "listing_type_id_gold_premium       bool\n",
       "listing_type_id_gold_pro           bool\n",
       "listing_type_id_gold_special       bool\n",
       "listing_type_id_silver             bool\n",
       "dtype: object"
      ]
     },
     "execution_count": 36,
     "metadata": {},
     "output_type": "execute_result"
    }
   ],
   "source": [
    "df = pd.get_dummies(df, columns=['listing_type_id'], drop_first=True)\n",
    "\n",
    "df['free_shipping'] = df['free_shipping'].astype(int)\n",
    "\n",
    "df.dtypes"
   ]
  },
  {
   "cell_type": "markdown",
   "id": "304bb45d",
   "metadata": {},
   "source": [
    "### head but with the last changed"
   ]
  },
  {
   "cell_type": "code",
   "execution_count": 37,
   "id": "f823d266",
   "metadata": {},
   "outputs": [
    {
     "data": {
      "text/html": [
       "<div>\n",
       "<style scoped>\n",
       "    .dataframe tbody tr th:only-of-type {\n",
       "        vertical-align: middle;\n",
       "    }\n",
       "\n",
       "    .dataframe tbody tr th {\n",
       "        vertical-align: top;\n",
       "    }\n",
       "\n",
       "    .dataframe thead th {\n",
       "        text-align: right;\n",
       "    }\n",
       "</style>\n",
       "<table border=\"1\" class=\"dataframe\">\n",
       "  <thead>\n",
       "    <tr style=\"text-align: right;\">\n",
       "      <th></th>\n",
       "      <th>condition</th>\n",
       "      <th>price</th>\n",
       "      <th>buying_mode</th>\n",
       "      <th>status</th>\n",
       "      <th>initial_quantity</th>\n",
       "      <th>available_quantity</th>\n",
       "      <th>free_shipping</th>\n",
       "      <th>shipping_mode</th>\n",
       "      <th>non_mp_pay_count</th>\n",
       "      <th>listing_type_id_free</th>\n",
       "      <th>listing_type_id_gold</th>\n",
       "      <th>listing_type_id_gold_premium</th>\n",
       "      <th>listing_type_id_gold_pro</th>\n",
       "      <th>listing_type_id_gold_special</th>\n",
       "      <th>listing_type_id_silver</th>\n",
       "    </tr>\n",
       "  </thead>\n",
       "  <tbody>\n",
       "    <tr>\n",
       "      <th>0</th>\n",
       "      <td>0</td>\n",
       "      <td>80.0</td>\n",
       "      <td>1</td>\n",
       "      <td>0</td>\n",
       "      <td>1</td>\n",
       "      <td>1</td>\n",
       "      <td>0</td>\n",
       "      <td>3</td>\n",
       "      <td>3</td>\n",
       "      <td>False</td>\n",
       "      <td>False</td>\n",
       "      <td>False</td>\n",
       "      <td>False</td>\n",
       "      <td>False</td>\n",
       "      <td>False</td>\n",
       "    </tr>\n",
       "    <tr>\n",
       "      <th>1</th>\n",
       "      <td>1</td>\n",
       "      <td>2650.0</td>\n",
       "      <td>1</td>\n",
       "      <td>0</td>\n",
       "      <td>1</td>\n",
       "      <td>1</td>\n",
       "      <td>0</td>\n",
       "      <td>2</td>\n",
       "      <td>2</td>\n",
       "      <td>False</td>\n",
       "      <td>False</td>\n",
       "      <td>False</td>\n",
       "      <td>False</td>\n",
       "      <td>False</td>\n",
       "      <td>True</td>\n",
       "    </tr>\n",
       "    <tr>\n",
       "      <th>2</th>\n",
       "      <td>1</td>\n",
       "      <td>60.0</td>\n",
       "      <td>1</td>\n",
       "      <td>0</td>\n",
       "      <td>1</td>\n",
       "      <td>1</td>\n",
       "      <td>0</td>\n",
       "      <td>2</td>\n",
       "      <td>3</td>\n",
       "      <td>False</td>\n",
       "      <td>False</td>\n",
       "      <td>False</td>\n",
       "      <td>False</td>\n",
       "      <td>False</td>\n",
       "      <td>False</td>\n",
       "    </tr>\n",
       "    <tr>\n",
       "      <th>3</th>\n",
       "      <td>0</td>\n",
       "      <td>580.0</td>\n",
       "      <td>1</td>\n",
       "      <td>0</td>\n",
       "      <td>1</td>\n",
       "      <td>1</td>\n",
       "      <td>0</td>\n",
       "      <td>2</td>\n",
       "      <td>3</td>\n",
       "      <td>False</td>\n",
       "      <td>False</td>\n",
       "      <td>False</td>\n",
       "      <td>False</td>\n",
       "      <td>False</td>\n",
       "      <td>True</td>\n",
       "    </tr>\n",
       "    <tr>\n",
       "      <th>4</th>\n",
       "      <td>1</td>\n",
       "      <td>30.0</td>\n",
       "      <td>1</td>\n",
       "      <td>0</td>\n",
       "      <td>1</td>\n",
       "      <td>1</td>\n",
       "      <td>0</td>\n",
       "      <td>3</td>\n",
       "      <td>3</td>\n",
       "      <td>False</td>\n",
       "      <td>False</td>\n",
       "      <td>False</td>\n",
       "      <td>False</td>\n",
       "      <td>False</td>\n",
       "      <td>False</td>\n",
       "    </tr>\n",
       "  </tbody>\n",
       "</table>\n",
       "</div>"
      ],
      "text/plain": [
       "   condition   price  buying_mode  status  initial_quantity  \\\n",
       "0          0    80.0            1       0                 1   \n",
       "1          1  2650.0            1       0                 1   \n",
       "2          1    60.0            1       0                 1   \n",
       "3          0   580.0            1       0                 1   \n",
       "4          1    30.0            1       0                 1   \n",
       "\n",
       "   available_quantity  free_shipping  shipping_mode  non_mp_pay_count  \\\n",
       "0                   1              0              3                 3   \n",
       "1                   1              0              2                 2   \n",
       "2                   1              0              2                 3   \n",
       "3                   1              0              2                 3   \n",
       "4                   1              0              3                 3   \n",
       "\n",
       "   listing_type_id_free  listing_type_id_gold  listing_type_id_gold_premium  \\\n",
       "0                 False                 False                         False   \n",
       "1                 False                 False                         False   \n",
       "2                 False                 False                         False   \n",
       "3                 False                 False                         False   \n",
       "4                 False                 False                         False   \n",
       "\n",
       "   listing_type_id_gold_pro  listing_type_id_gold_special  \\\n",
       "0                     False                         False   \n",
       "1                     False                         False   \n",
       "2                     False                         False   \n",
       "3                     False                         False   \n",
       "4                     False                         False   \n",
       "\n",
       "   listing_type_id_silver  \n",
       "0                   False  \n",
       "1                    True  \n",
       "2                   False  \n",
       "3                    True  \n",
       "4                   False  "
      ]
     },
     "execution_count": 37,
     "metadata": {},
     "output_type": "execute_result"
    }
   ],
   "source": [
    "df.head()"
   ]
  },
  {
   "cell_type": "markdown",
   "id": "ed7cdb9e",
   "metadata": {},
   "source": [
    "### Define features and target"
   ]
  },
  {
   "cell_type": "code",
   "execution_count": 38,
   "id": "c5f9511c",
   "metadata": {},
   "outputs": [
    {
     "name": "stderr",
     "output_type": "stream",
     "text": [
      "2025-05-09 13:24:24,187 - INFO - Feature set shape: (100000, 14), Target shape: (100000,)\n"
     ]
    }
   ],
   "source": [
    "X = df.drop(columns=['condition'])\n",
    "y = df['condition']\n",
    "\n",
    "logging.info(f\"Feature set shape: {X.shape}, Target shape: {y.shape}\")"
   ]
  },
  {
   "cell_type": "markdown",
   "id": "388a7ac3",
   "metadata": {},
   "source": [
    "### Train-test split"
   ]
  },
  {
   "cell_type": "code",
   "execution_count": 39,
   "id": "eacc2105",
   "metadata": {},
   "outputs": [
    {
     "name": "stderr",
     "output_type": "stream",
     "text": [
      "2025-05-09 13:24:30,760 - INFO - Train shape: (80000, 14), Test shape: (20000, 14)\n"
     ]
    }
   ],
   "source": [
    "X_train, X_test, y_train, y_test = train_test_split(\n",
    "    X, y, test_size=0.2, random_state=42, stratify=y\n",
    ")\n",
    "logging.info(f\"Train shape: {X_train.shape}, Test shape: {X_test.shape}\")"
   ]
  },
  {
   "cell_type": "markdown",
   "id": "0b76f974",
   "metadata": {},
   "source": [
    "---\n",
    "### Search and evaluation for model training"
   ]
  },
  {
   "cell_type": "markdown",
   "id": "c3db5fd7",
   "metadata": {},
   "source": [
    "### Model -Random Forest"
   ]
  },
  {
   "cell_type": "code",
   "execution_count": null,
   "id": "e800ef59",
   "metadata": {},
   "outputs": [
    {
     "name": "stdout",
     "output_type": "stream",
     "text": [
      "ROC AUC: 0.894757494421252\n",
      "              precision    recall  f1-score   support\n",
      "\n",
      "           0       0.87      0.77      0.82     10752\n",
      "           1       0.77      0.86      0.81      9248\n",
      "\n",
      "    accuracy                           0.81     20000\n",
      "   macro avg       0.82      0.82      0.81     20000\n",
      "weighted avg       0.82      0.81      0.81     20000\n",
      "\n"
     ]
    }
   ],
   "source": [
    "model = RandomForestClassifier(random_state=42)\n",
    "model.fit(X_train, y_train)\n",
    "\n",
    "y_pred  = model.predict(X_test)\n",
    "y_proba = model.predict_proba(X_test)[:,1]\n",
    "\n",
    "print(\"ROC AUC:\", roc_auc_score(y_test, y_proba))\n",
    "print(classification_report(y_test, y_pred))\n"
   ]
  },
  {
   "cell_type": "markdown",
   "id": "f8432ba9",
   "metadata": {},
   "source": [
    "### Model - Logistic Regression"
   ]
  },
  {
   "cell_type": "code",
   "execution_count": null,
   "id": "429c43ce",
   "metadata": {},
   "outputs": [
    {
     "name": "stdout",
     "output_type": "stream",
     "text": [
      "Logistic Regression ROC AUC: 0.755918227815023\n",
      "              precision    recall  f1-score   support\n",
      "\n",
      "           0       0.70      0.71      0.70     10752\n",
      "           1       0.66      0.65      0.65      9248\n",
      "\n",
      "    accuracy                           0.68     20000\n",
      "   macro avg       0.68      0.68      0.68     20000\n",
      "weighted avg       0.68      0.68      0.68     20000\n",
      "\n"
     ]
    }
   ],
   "source": [
    "lr = LogisticRegression(max_iter=1000, random_state=42)\n",
    "lr.fit(X_train, y_train)\n",
    "\n",
    "y_pred_lr  = lr.predict(X_test)\n",
    "y_proba_lr = lr.predict_proba(X_test)[:, 1]\n",
    "\n",
    "print(\"Logistic Regression ROC AUC:\", roc_auc_score(y_test, y_proba_lr))\n",
    "print(classification_report(y_test, y_pred_lr))"
   ]
  },
  {
   "cell_type": "markdown",
   "id": "395bfbf9",
   "metadata": {},
   "source": [
    "\n",
    "### Model Comparison and Key Takeaways\n",
    "\n",
    "- **Random Forest:**  \n",
    "  - **ROC AUC:** 0.895  \n",
    "  - **Accuracy:** 0.81  \n",
    "  - **Class 0 (new) →** Precision 0.87 | Recall 0.77 | F1 0.82  \n",
    "  - **Class 1 (used) →** Precision 0.77 | Recall 0.86 | F1 0.81  \n",
    "\n",
    "- **Logistic Regression:**  \n",
    "  - **ROC AUC:** 0.756  \n",
    "  - **Accuracy:** 0.68  \n",
    "  - **Class 0 →** Precision 0.70 | Recall 0.71 | F1 0.70  \n",
    "  - **Class 1 →** Precision 0.66 | Recall 0.65 | F1 0.65  \n",
    "\n",
    "**Conclusion:** Random Forest clearly outperforms Logistic Regression across all metrics, especially in AUC +0.14 and overall F1 +0.11. Its higher recall on the “used” class also reduces false negatives. Therefore, Random Forest should be selected as the primary model, with potential next steps to further tune its hyperparameters or calibrate decision thresholds for specific business needs.  \n"
   ]
  },
  {
   "cell_type": "markdown",
   "id": "35c79a44",
   "metadata": {},
   "source": [
    "---\n",
    "### Top 10 Feature Importances\n",
    "\n",
    "The bar chart shows that **price** is by far the most influential feature, followed by the `listing_type_id_free` flag, `initial_quantity`, and `available_quantity`. Lesser contributions come from payment‐method count and secondary listing types, indicating the model relies primarily on core listing details and pricing.  \n"
   ]
  },
  {
   "cell_type": "code",
   "execution_count": 51,
   "id": "443cd2fe",
   "metadata": {},
   "outputs": [
    {
     "data": {
      "image/png": "[encoded data removed]",
      "text/plain": [
       "<Figure size 600x400 with 1 Axes>"
      ]
     },
     "metadata": {},
     "output_type": "display_data"
    }
   ],
   "source": [
    "importances = pd.Series(model.feature_importances_, index=X_train.columns).sort_values(ascending=False)\n",
    "plt.figure(figsize=(6,4))\n",
    "sns.barplot(x=importances.head(10), y=importances.head(10).index)\n",
    "plt.title('Top 10 Feature Importances')\n",
    "plt.show()"
   ]
  },
  {
   "cell_type": "markdown",
   "id": "91905ed8",
   "metadata": {},
   "source": [
    "---\n",
    "### ROC Curve\n",
    "\n",
    "The ROC curve for the Random Forest model achieves an AUC of 0.89, demonstrating strong discrimination between new and used listings and a high true-positive rate even at low false-positive rates.  \n"
   ]
  },
  {
   "cell_type": "code",
   "execution_count": null,
   "id": "23c94f85",
   "metadata": {},
   "outputs": [
    {
     "data": {
      "image/png": "[encoded data removed]",
      "text/plain": [
       "<Figure size 640x480 with 1 Axes>"
      ]
     },
     "metadata": {},
     "output_type": "display_data"
    }
   ],
   "source": [
    "from sklearn.metrics import RocCurveDisplay\n",
    "\n",
    "RocCurveDisplay.from_estimator(model, X_test, y_test)\n",
    "plt.title('ROC Curve')\n",
    "plt.show()"
   ]
  },
  {
   "cell_type": "markdown",
   "id": "4d851fd4",
   "metadata": {},
   "source": [
    "---\n",
    "### Partial Dependence Plot of Price\n",
    "\n",
    "The PDP reveals that lower prices (below ~\\$200) sharply increase the likelihood of listings being classified as new, while beyond that range the probability plateaus around 0.3–0.4, indicating diminishing returns of higher prices on predicting condition.  \n"
   ]
  },
  {
   "cell_type": "code",
   "execution_count": 50,
   "id": "12b86326",
   "metadata": {},
   "outputs": [
    {
     "data": {
      "image/png": "[encoded data removed]",
      "text/plain": [
       "<Figure size 640x480 with 2 Axes>"
      ]
     },
     "metadata": {},
     "output_type": "display_data"
    }
   ],
   "source": [
    "from sklearn.inspection import PartialDependenceDisplay\n",
    "\n",
    "top_feat = importances.head(1).index[0]\n",
    "PartialDependenceDisplay.from_estimator(model, X_train, [top_feat], grid_resolution=50)\n",
    "plt.title(f'PDP of {top_feat}')\n",
    "plt.show()\n"
   ]
  },
  {
   "cell_type": "markdown",
   "id": "a502d38e",
   "metadata": {},
   "source": [
    "### Save the .pkl of model Random Forest"
   ]
  },
  {
   "cell_type": "code",
   "execution_count": 44,
   "id": "fb442126",
   "metadata": {},
   "outputs": [
    {
     "data": {
      "text/plain": [
       "['best_model/randomforest.pkl']"
      ]
     },
     "execution_count": 44,
     "metadata": {},
     "output_type": "execute_result"
    }
   ],
   "source": [
    "os.makedirs('best_model', exist_ok=True)\n",
    "\n",
    "joblib.dump(model, 'best_model/randomforest.pkl')"
   ]
  }
 ],
 "metadata": {
  "kernelspec": {
   "display_name": "Python 3",
   "language": "python",
   "name": "python3"
  },
  "language_info": {
   "codemirror_mode": {
    "name": "ipython",
    "version": 3
   },
   "file_extension": ".py",
   "mimetype": "text/x-python",
   "name": "python",
   "nbconvert_exporter": "python",
   "pygments_lexer": "ipython3",
   "version": "3.11.5"
  }
 },
 "nbformat": 4,
 "nbformat_minor": 5
}

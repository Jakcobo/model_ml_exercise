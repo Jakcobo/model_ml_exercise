{
 "cells": [
  {
   "cell_type": "markdown",
   "id": "5c104710",
   "metadata": {},
   "source": [
    "# __EDA - Exploratory Data Analysis__"
   ]
  },
  {
   "cell_type": "markdown",
   "id": "40cf484c",
   "metadata": {},
   "source": [
    "### Enviroment"
   ]
  },
  {
   "cell_type": "code",
   "execution_count": 1,
   "id": "a9d1d7e8",
   "metadata": {},
   "outputs": [],
   "source": [
    "import os\n",
    "import pandas as pd\n",
    "import numpy as np\n",
    "import matplotlib.pyplot as plt\n",
    "import seaborn as sns\n",
    "import logging"
   ]
  },
  {
   "cell_type": "code",
   "execution_count": 2,
   "id": "4b1b6464",
   "metadata": {},
   "outputs": [
    {
     "name": "stdout",
     "output_type": "stream",
     "text": [
      "Current directory before change: c:\\Users\\Administrador\\Desktop\\ml_excercise\\notebooks\n",
      "Current directory after change: c:\\Users\\Administrador\\Desktop\\ml_excercise\n"
     ]
    }
   ],
   "source": [
    "print(\"Current directory before change:\", os.getcwd())\n",
    "\n",
    "try:\n",
    "    \n",
    "    os.chdir(\"../\")\n",
    "    print(\"Current directory after change:\", os.getcwd())\n",
    "\n",
    "except FileNotFoundError:\n",
    "    print(\"\"\"\n",
    "        FileNotFoundError - The specified directory does not exist or you are already in the root.\n",
    "        If the code already worked once, do not run it again.\n",
    "    \"\"\")"
   ]
  },
  {
   "cell_type": "markdown",
   "id": "c2a37c2f",
   "metadata": {},
   "source": [
    "---\n",
    "### Display Full Data in Pandas\n",
    "This code configures Pandas to display the entire content of DataFrames, including all rows, columns, and cell content, without truncation, ensuring that the full data is visible when working in a notebook or terminal.\n"
   ]
  },
  {
   "cell_type": "code",
   "execution_count": 3,
   "id": "7e01cee7",
   "metadata": {},
   "outputs": [],
   "source": [
    "pd.set_option('display.max_columns', None)\n",
    "pd.set_option('display.max_rows', None)\n",
    "pd.set_option('display.width', None)\n",
    "pd.set_option('display.max_colwidth', None)\n",
    "\n",
    "sns.set(style='whitegrid')"
   ]
  },
  {
   "cell_type": "markdown",
   "id": "25798af6",
   "metadata": {},
   "source": [
    "### Read the data from jsonlines"
   ]
  },
  {
   "cell_type": "code",
   "execution_count": 4,
   "id": "d167a5f5",
   "metadata": {},
   "outputs": [
    {
     "name": "stdout",
     "output_type": "stream",
     "text": [
      "Dimensiones del dataset: (100000, 48)\n"
     ]
    }
   ],
   "source": [
    "df = pd.read_json('data/MLA_100k.jsonlines', lines=True, orient='records')\n",
    "print(f\"Dimensiones del dataset: {df.shape}\")"
   ]
  },
  {
   "cell_type": "markdown",
   "id": "ffbc116f",
   "metadata": {},
   "source": [
    "### See all columns for more visualization\n"
   ]
  },
  {
   "cell_type": "code",
   "execution_count": 5,
   "id": "57a58860",
   "metadata": {},
   "outputs": [
    {
     "name": "stdout",
     "output_type": "stream",
     "text": [
      "Index(['seller_address', 'warranty', 'sub_status', 'condition',\n",
      "       'seller_contact', 'deal_ids', 'base_price', 'shipping',\n",
      "       'non_mercado_pago_payment_methods', 'seller_id', 'variations',\n",
      "       'location', 'site_id', 'listing_type_id', 'price', 'attributes',\n",
      "       'buying_mode', 'tags', 'listing_source', 'parent_item_id',\n",
      "       'coverage_areas', 'category_id', 'descriptions', 'last_updated',\n",
      "       'international_delivery_mode', 'pictures', 'id', 'official_store_id',\n",
      "       'differential_pricing', 'accepts_mercadopago', 'original_price',\n",
      "       'currency_id', 'thumbnail', 'title', 'automatic_relist', 'date_created',\n",
      "       'secure_thumbnail', 'stop_time', 'status', 'video_id',\n",
      "       'catalog_product_id', 'subtitle', 'initial_quantity', 'start_time',\n",
      "       'permalink', 'geolocation', 'sold_quantity', 'available_quantity'],\n",
      "      dtype='object')\n"
     ]
    }
   ],
   "source": [
    "print(df.columns)"
   ]
  },
  {
   "cell_type": "markdown",
   "id": "3a4be7d1",
   "metadata": {},
   "source": [
    "### Display First Few Rows of DataFrame\n",
    "\n",
    "The `df.head()` function in Pandas displays the first 5 rows of a DataFrame by default, allowing you to quickly inspect the top portion of your data for a quick overview.\n"
   ]
  },
  {
   "cell_type": "code",
   "execution_count": 6,
   "id": "c17a412c",
   "metadata": {},
   "outputs": [
    {
     "data": {
      "text/html": [
       "<div>\n",
       "<style scoped>\n",
       "    .dataframe tbody tr th:only-of-type {\n",
       "        vertical-align: middle;\n",
       "    }\n",
       "\n",
       "    .dataframe tbody tr th {\n",
       "        vertical-align: top;\n",
       "    }\n",
       "\n",
       "    .dataframe thead th {\n",
       "        text-align: right;\n",
       "    }\n",
       "</style>\n",
       "<table border=\"1\" class=\"dataframe\">\n",
       "  <thead>\n",
       "    <tr style=\"text-align: right;\">\n",
       "      <th></th>\n",
       "      <th>seller_address</th>\n",
       "      <th>warranty</th>\n",
       "      <th>sub_status</th>\n",
       "      <th>condition</th>\n",
       "      <th>seller_contact</th>\n",
       "      <th>deal_ids</th>\n",
       "      <th>base_price</th>\n",
       "      <th>shipping</th>\n",
       "      <th>non_mercado_pago_payment_methods</th>\n",
       "      <th>seller_id</th>\n",
       "      <th>variations</th>\n",
       "      <th>location</th>\n",
       "      <th>site_id</th>\n",
       "      <th>listing_type_id</th>\n",
       "      <th>price</th>\n",
       "      <th>attributes</th>\n",
       "      <th>buying_mode</th>\n",
       "      <th>tags</th>\n",
       "      <th>listing_source</th>\n",
       "      <th>parent_item_id</th>\n",
       "      <th>coverage_areas</th>\n",
       "      <th>category_id</th>\n",
       "      <th>descriptions</th>\n",
       "      <th>last_updated</th>\n",
       "      <th>international_delivery_mode</th>\n",
       "      <th>pictures</th>\n",
       "      <th>id</th>\n",
       "      <th>official_store_id</th>\n",
       "      <th>differential_pricing</th>\n",
       "      <th>accepts_mercadopago</th>\n",
       "      <th>original_price</th>\n",
       "      <th>currency_id</th>\n",
       "      <th>thumbnail</th>\n",
       "      <th>title</th>\n",
       "      <th>automatic_relist</th>\n",
       "      <th>date_created</th>\n",
       "      <th>secure_thumbnail</th>\n",
       "      <th>stop_time</th>\n",
       "      <th>status</th>\n",
       "      <th>video_id</th>\n",
       "      <th>catalog_product_id</th>\n",
       "      <th>subtitle</th>\n",
       "      <th>initial_quantity</th>\n",
       "      <th>start_time</th>\n",
       "      <th>permalink</th>\n",
       "      <th>geolocation</th>\n",
       "      <th>sold_quantity</th>\n",
       "      <th>available_quantity</th>\n",
       "    </tr>\n",
       "  </thead>\n",
       "  <tbody>\n",
       "    <tr>\n",
       "      <th>0</th>\n",
       "      <td>{'comment': '', 'longitude': -58.3986709, 'id': 78162842, 'country': {'name': 'Argentina', 'id': 'AR'}, 'address_line': '', 'latitude': -34.6280698, 'search_location': {'neighborhood': {'name': 'San Cristóbal', 'id': 'TUxBQlNBTjkwNTZa'}, 'state': {'name': 'Capital Federal', 'id': 'TUxBUENBUGw3M2E1'}, 'city': {'name': 'Capital Federal', 'id': 'TUxBQ0NBUGZlZG1sYQ'}}, 'zip_code': '', 'city': {'name': 'San Cristóbal', 'id': 'TUxBQlNBTjkwNTZa'}, 'state': {'name': 'Capital Federal', 'id': 'AR-C'}}</td>\n",
       "      <td>None</td>\n",
       "      <td>[]</td>\n",
       "      <td>new</td>\n",
       "      <td>None</td>\n",
       "      <td>[]</td>\n",
       "      <td>80.0</td>\n",
       "      <td>{'local_pick_up': True, 'methods': [], 'tags': [], 'free_shipping': False, 'mode': 'not_specified', 'dimensions': None}</td>\n",
       "      <td>[{'description': 'Transferencia bancaria', 'id': 'MLATB', 'type': 'G'}, {'description': 'Acordar con el comprador', 'id': 'MLAWC', 'type': 'G'}, {'description': 'Efectivo', 'id': 'MLAMO', 'type': 'G'}]</td>\n",
       "      <td>74952096</td>\n",
       "      <td>[]</td>\n",
       "      <td>{}</td>\n",
       "      <td>MLA</td>\n",
       "      <td>bronze</td>\n",
       "      <td>80.0</td>\n",
       "      <td>[]</td>\n",
       "      <td>buy_it_now</td>\n",
       "      <td>[dragged_bids_and_visits]</td>\n",
       "      <td></td>\n",
       "      <td>MLA568261029</td>\n",
       "      <td>[]</td>\n",
       "      <td>MLA126406</td>\n",
       "      <td>[{'id': 'MLA578052519-912855983'}]</td>\n",
       "      <td>2015-09-05T20:42:58.000Z</td>\n",
       "      <td>none</td>\n",
       "      <td>[{'size': '500x375', 'secure_url': 'https://a248.e.akamai.net/mla-s1-p.mlstatic.com/5386-MLA4352067878_052013-O.jpg', 'max_size': '1200x900', 'url': 'http://mla-s1-p.mlstatic.com/5386-MLA4352067878_052013-O.jpg', 'quality': '', 'id': '5386-MLA4352067878_052013'}, {'size': '500x375', 'secure_url': 'https://a248.e.akamai.net/mla-s1-p.mlstatic.com/5361-MLA4352068035_052013-O.jpg', 'max_size': '1200x900', 'url': 'http://mla-s1-p.mlstatic.com/5361-MLA4352068035_052013-O.jpg', 'quality': '', 'id': '5361-MLA4352068035_052013'}]</td>\n",
       "      <td>MLA578052519</td>\n",
       "      <td>NaN</td>\n",
       "      <td>NaN</td>\n",
       "      <td>True</td>\n",
       "      <td>NaN</td>\n",
       "      <td>ARS</td>\n",
       "      <td>http://mla-s1-p.mlstatic.com/5386-MLA4352067878_052013-I.jpg</td>\n",
       "      <td>Auriculares Samsung Originales Manos Libres Cable Usb Oferta</td>\n",
       "      <td>False</td>\n",
       "      <td>2015-09-05T20:42:53.000Z</td>\n",
       "      <td>https://a248.e.akamai.net/mla-s1-p.mlstatic.com/5386-MLA4352067878_052013-I.jpg</td>\n",
       "      <td>2015-11-04 20:42:53+00:00</td>\n",
       "      <td>active</td>\n",
       "      <td>None</td>\n",
       "      <td>NaN</td>\n",
       "      <td>NaN</td>\n",
       "      <td>1</td>\n",
       "      <td>2015-09-05 20:42:53+00:00</td>\n",
       "      <td>http://articulo.mercadolibre.com.ar/MLA-578052519-auriculares-samsung-originales-manos-libres-cable-usb-oferta-_JM</td>\n",
       "      <td>{'latitude': -34.6280698, 'longitude': -58.3986709}</td>\n",
       "      <td>0</td>\n",
       "      <td>1</td>\n",
       "    </tr>\n",
       "    <tr>\n",
       "      <th>1</th>\n",
       "      <td>{'comment': '', 'longitude': -58.5059173, 'id': 105272448, 'country': {'name': 'Argentina', 'id': 'AR'}, 'address_line': '', 'latitude': -34.5935524, 'search_location': {'neighborhood': {'name': 'Villa Devoto', 'id': 'TUxBQlZJTDYzNzZa'}, 'state': {'name': 'Capital Federal', 'id': 'TUxBUENBUGw3M2E1'}, 'city': {'name': 'Capital Federal', 'id': 'TUxBQ0NBUGZlZG1sYQ'}}, 'zip_code': '', 'city': {'name': 'Buenos Aires', 'id': ''}, 'state': {'name': 'Capital Federal', 'id': 'AR-C'}}</td>\n",
       "      <td>NUESTRA REPUTACION</td>\n",
       "      <td>[]</td>\n",
       "      <td>used</td>\n",
       "      <td>None</td>\n",
       "      <td>[]</td>\n",
       "      <td>2650.0</td>\n",
       "      <td>{'local_pick_up': True, 'methods': [], 'tags': [], 'free_shipping': False, 'mode': 'me2', 'dimensions': None}</td>\n",
       "      <td>[{'description': 'Transferencia bancaria', 'id': 'MLATB', 'type': 'G'}, {'description': 'Efectivo', 'id': 'MLAMO', 'type': 'G'}]</td>\n",
       "      <td>42093335</td>\n",
       "      <td>[]</td>\n",
       "      <td>{}</td>\n",
       "      <td>MLA</td>\n",
       "      <td>silver</td>\n",
       "      <td>2650.0</td>\n",
       "      <td>[]</td>\n",
       "      <td>buy_it_now</td>\n",
       "      <td>[]</td>\n",
       "      <td></td>\n",
       "      <td>MLA561574487</td>\n",
       "      <td>[]</td>\n",
       "      <td>MLA10267</td>\n",
       "      <td>[{'id': 'MLA581565358-930764806'}]</td>\n",
       "      <td>2015-09-26T18:08:34.000Z</td>\n",
       "      <td>none</td>\n",
       "      <td>[{'size': '499x334', 'secure_url': 'https://a248.e.akamai.net/mla-s1-p.mlstatic.com/23223-MLA20245018984_022015-O.jpg', 'max_size': '951x637', 'url': 'http://mla-s1-p.mlstatic.com/23223-MLA20245018984_022015-O.jpg', 'quality': '', 'id': '23223-MLA20245018984_022015'}, {'size': '500x375', 'secure_url': 'https://a248.e.akamai.net/mla-s2-p.mlstatic.com/23273-MLA20245018989_022015-O.jpg', 'max_size': '1024x768', 'url': 'http://mla-s2-p.mlstatic.com/23273-MLA20245018989_022015-O.jpg', 'quality': '', 'id': '23273-MLA20245018989_022015'}, {'size': '500x375', 'secure_url': 'https://a248.e.akamai.net/mla-s1-p.mlstatic.com/23205-MLA20245019615_022015-O.jpg', 'max_size': '1024x768', 'url': 'http://mla-s1-p.mlstatic.com/23205-MLA20245019615_022015-O.jpg', 'quality': '', 'id': '23205-MLA20245019615_022015'}, {'size': '500x375', 'secure_url': 'https://a248.e.akamai.net/mla-s2-p.mlstatic.com/23289-MLA20245019311_022015-O.jpg', 'max_size': '1024x768', 'url': 'http://mla-s2-p.mlstatic.com/23289-MLA20245019311_022015-O.jpg', 'quality': '', 'id': '23289-MLA20245019311_022015'}, {'size': '500x375', 'secure_url': 'https://a248.e.akamai.net/mla-s1-p.mlstatic.com/23220-MLA20245019314_022015-O.jpg', 'max_size': '1024x768', 'url': 'http://mla-s1-p.mlstatic.com/23220-MLA20245019314_022015-O.jpg', 'quality': '', 'id': '23220-MLA20245019314_022015'}, {'size': '500x326', 'secure_url': 'https://a248.e.akamai.net/mla-s1-p.mlstatic.com/23201-MLA20245019316_022015-O.jpg', 'max_size': '924x603', 'url': 'http://mla-s1-p.mlstatic.com/23201-MLA20245019316_022015-O.jpg', 'quality': '', 'id': '23201-MLA20245019316_022015'}]</td>\n",
       "      <td>MLA581565358</td>\n",
       "      <td>NaN</td>\n",
       "      <td>NaN</td>\n",
       "      <td>True</td>\n",
       "      <td>NaN</td>\n",
       "      <td>ARS</td>\n",
       "      <td>http://mla-s1-p.mlstatic.com/23223-MLA20245018984_022015-I.jpg</td>\n",
       "      <td>Cuchillo Daga Acero Carbón Casco Yelmo Solingen Con Vaina</td>\n",
       "      <td>False</td>\n",
       "      <td>2015-09-26T18:08:30.000Z</td>\n",
       "      <td>https://a248.e.akamai.net/mla-s1-p.mlstatic.com/23223-MLA20245018984_022015-I.jpg</td>\n",
       "      <td>2015-11-25 18:08:30+00:00</td>\n",
       "      <td>active</td>\n",
       "      <td>None</td>\n",
       "      <td>NaN</td>\n",
       "      <td>NaN</td>\n",
       "      <td>1</td>\n",
       "      <td>2015-09-26 18:08:30+00:00</td>\n",
       "      <td>http://articulo.mercadolibre.com.ar/MLA-581565358-cuchillo-daga-acero-carbon-casco-yelmo-solingen-con-vaina-_JM</td>\n",
       "      <td>{'latitude': -34.5935524, 'longitude': -58.5059173}</td>\n",
       "      <td>0</td>\n",
       "      <td>1</td>\n",
       "    </tr>\n",
       "  </tbody>\n",
       "</table>\n",
       "</div>"
      ],
      "text/plain": [
       "                                                                                                                                                                                                                                                                                                                                                                                                                                                                                                     seller_address  \\\n",
       "0  {'comment': '', 'longitude': -58.3986709, 'id': 78162842, 'country': {'name': 'Argentina', 'id': 'AR'}, 'address_line': '', 'latitude': -34.6280698, 'search_location': {'neighborhood': {'name': 'San Cristóbal', 'id': 'TUxBQlNBTjkwNTZa'}, 'state': {'name': 'Capital Federal', 'id': 'TUxBUENBUGw3M2E1'}, 'city': {'name': 'Capital Federal', 'id': 'TUxBQ0NBUGZlZG1sYQ'}}, 'zip_code': '', 'city': {'name': 'San Cristóbal', 'id': 'TUxBQlNBTjkwNTZa'}, 'state': {'name': 'Capital Federal', 'id': 'AR-C'}}   \n",
       "1                   {'comment': '', 'longitude': -58.5059173, 'id': 105272448, 'country': {'name': 'Argentina', 'id': 'AR'}, 'address_line': '', 'latitude': -34.5935524, 'search_location': {'neighborhood': {'name': 'Villa Devoto', 'id': 'TUxBQlZJTDYzNzZa'}, 'state': {'name': 'Capital Federal', 'id': 'TUxBUENBUGw3M2E1'}, 'city': {'name': 'Capital Federal', 'id': 'TUxBQ0NBUGZlZG1sYQ'}}, 'zip_code': '', 'city': {'name': 'Buenos Aires', 'id': ''}, 'state': {'name': 'Capital Federal', 'id': 'AR-C'}}   \n",
       "\n",
       "             warranty sub_status condition seller_contact deal_ids  \\\n",
       "0                None         []       new           None       []   \n",
       "1  NUESTRA REPUTACION         []      used           None       []   \n",
       "\n",
       "   base_price  \\\n",
       "0        80.0   \n",
       "1      2650.0   \n",
       "\n",
       "                                                                                                                  shipping  \\\n",
       "0  {'local_pick_up': True, 'methods': [], 'tags': [], 'free_shipping': False, 'mode': 'not_specified', 'dimensions': None}   \n",
       "1            {'local_pick_up': True, 'methods': [], 'tags': [], 'free_shipping': False, 'mode': 'me2', 'dimensions': None}   \n",
       "\n",
       "                                                                                                                                                                            non_mercado_pago_payment_methods  \\\n",
       "0  [{'description': 'Transferencia bancaria', 'id': 'MLATB', 'type': 'G'}, {'description': 'Acordar con el comprador', 'id': 'MLAWC', 'type': 'G'}, {'description': 'Efectivo', 'id': 'MLAMO', 'type': 'G'}]   \n",
       "1                                                                           [{'description': 'Transferencia bancaria', 'id': 'MLATB', 'type': 'G'}, {'description': 'Efectivo', 'id': 'MLAMO', 'type': 'G'}]   \n",
       "\n",
       "   seller_id variations location site_id listing_type_id   price attributes  \\\n",
       "0   74952096         []       {}     MLA          bronze    80.0         []   \n",
       "1   42093335         []       {}     MLA          silver  2650.0         []   \n",
       "\n",
       "  buying_mode                       tags listing_source parent_item_id  \\\n",
       "0  buy_it_now  [dragged_bids_and_visits]                  MLA568261029   \n",
       "1  buy_it_now                         []                  MLA561574487   \n",
       "\n",
       "  coverage_areas category_id                        descriptions  \\\n",
       "0             []   MLA126406  [{'id': 'MLA578052519-912855983'}]   \n",
       "1             []    MLA10267  [{'id': 'MLA581565358-930764806'}]   \n",
       "\n",
       "               last_updated international_delivery_mode  \\\n",
       "0  2015-09-05T20:42:58.000Z                        none   \n",
       "1  2015-09-26T18:08:34.000Z                        none   \n",
       "\n",
       "                                                                                                                                                                                                                                                                                                                                                                                                                                                                                                                                                                                                                                                                                                                                                                                                                                                                                                                                                                                                                                                                                                                                                                                                                                                                                                                                                                                                                                                                                                                                                                                                                                                                       pictures  \\\n",
       "0                                                                                                                                                                                                                                                                                                                                                                                                                                                                                                                                                                                                                                                                                                                                                                                                                                                                                                                                                                                                                                                                                                                                [{'size': '500x375', 'secure_url': 'https://a248.e.akamai.net/mla-s1-p.mlstatic.com/5386-MLA4352067878_052013-O.jpg', 'max_size': '1200x900', 'url': 'http://mla-s1-p.mlstatic.com/5386-MLA4352067878_052013-O.jpg', 'quality': '', 'id': '5386-MLA4352067878_052013'}, {'size': '500x375', 'secure_url': 'https://a248.e.akamai.net/mla-s1-p.mlstatic.com/5361-MLA4352068035_052013-O.jpg', 'max_size': '1200x900', 'url': 'http://mla-s1-p.mlstatic.com/5361-MLA4352068035_052013-O.jpg', 'quality': '', 'id': '5361-MLA4352068035_052013'}]   \n",
       "1  [{'size': '499x334', 'secure_url': 'https://a248.e.akamai.net/mla-s1-p.mlstatic.com/23223-MLA20245018984_022015-O.jpg', 'max_size': '951x637', 'url': 'http://mla-s1-p.mlstatic.com/23223-MLA20245018984_022015-O.jpg', 'quality': '', 'id': '23223-MLA20245018984_022015'}, {'size': '500x375', 'secure_url': 'https://a248.e.akamai.net/mla-s2-p.mlstatic.com/23273-MLA20245018989_022015-O.jpg', 'max_size': '1024x768', 'url': 'http://mla-s2-p.mlstatic.com/23273-MLA20245018989_022015-O.jpg', 'quality': '', 'id': '23273-MLA20245018989_022015'}, {'size': '500x375', 'secure_url': 'https://a248.e.akamai.net/mla-s1-p.mlstatic.com/23205-MLA20245019615_022015-O.jpg', 'max_size': '1024x768', 'url': 'http://mla-s1-p.mlstatic.com/23205-MLA20245019615_022015-O.jpg', 'quality': '', 'id': '23205-MLA20245019615_022015'}, {'size': '500x375', 'secure_url': 'https://a248.e.akamai.net/mla-s2-p.mlstatic.com/23289-MLA20245019311_022015-O.jpg', 'max_size': '1024x768', 'url': 'http://mla-s2-p.mlstatic.com/23289-MLA20245019311_022015-O.jpg', 'quality': '', 'id': '23289-MLA20245019311_022015'}, {'size': '500x375', 'secure_url': 'https://a248.e.akamai.net/mla-s1-p.mlstatic.com/23220-MLA20245019314_022015-O.jpg', 'max_size': '1024x768', 'url': 'http://mla-s1-p.mlstatic.com/23220-MLA20245019314_022015-O.jpg', 'quality': '', 'id': '23220-MLA20245019314_022015'}, {'size': '500x326', 'secure_url': 'https://a248.e.akamai.net/mla-s1-p.mlstatic.com/23201-MLA20245019316_022015-O.jpg', 'max_size': '924x603', 'url': 'http://mla-s1-p.mlstatic.com/23201-MLA20245019316_022015-O.jpg', 'quality': '', 'id': '23201-MLA20245019316_022015'}]   \n",
       "\n",
       "             id  official_store_id  differential_pricing  accepts_mercadopago  \\\n",
       "0  MLA578052519                NaN                   NaN                 True   \n",
       "1  MLA581565358                NaN                   NaN                 True   \n",
       "\n",
       "   original_price currency_id  \\\n",
       "0             NaN         ARS   \n",
       "1             NaN         ARS   \n",
       "\n",
       "                                                        thumbnail  \\\n",
       "0    http://mla-s1-p.mlstatic.com/5386-MLA4352067878_052013-I.jpg   \n",
       "1  http://mla-s1-p.mlstatic.com/23223-MLA20245018984_022015-I.jpg   \n",
       "\n",
       "                                                          title  \\\n",
       "0  Auriculares Samsung Originales Manos Libres Cable Usb Oferta   \n",
       "1     Cuchillo Daga Acero Carbón Casco Yelmo Solingen Con Vaina   \n",
       "\n",
       "   automatic_relist              date_created  \\\n",
       "0             False  2015-09-05T20:42:53.000Z   \n",
       "1             False  2015-09-26T18:08:30.000Z   \n",
       "\n",
       "                                                                    secure_thumbnail  \\\n",
       "0    https://a248.e.akamai.net/mla-s1-p.mlstatic.com/5386-MLA4352067878_052013-I.jpg   \n",
       "1  https://a248.e.akamai.net/mla-s1-p.mlstatic.com/23223-MLA20245018984_022015-I.jpg   \n",
       "\n",
       "                  stop_time  status video_id  catalog_product_id  subtitle  \\\n",
       "0 2015-11-04 20:42:53+00:00  active     None                 NaN       NaN   \n",
       "1 2015-11-25 18:08:30+00:00  active     None                 NaN       NaN   \n",
       "\n",
       "   initial_quantity                start_time  \\\n",
       "0                 1 2015-09-05 20:42:53+00:00   \n",
       "1                 1 2015-09-26 18:08:30+00:00   \n",
       "\n",
       "                                                                                                            permalink  \\\n",
       "0  http://articulo.mercadolibre.com.ar/MLA-578052519-auriculares-samsung-originales-manos-libres-cable-usb-oferta-_JM   \n",
       "1     http://articulo.mercadolibre.com.ar/MLA-581565358-cuchillo-daga-acero-carbon-casco-yelmo-solingen-con-vaina-_JM   \n",
       "\n",
       "                                           geolocation  sold_quantity  \\\n",
       "0  {'latitude': -34.6280698, 'longitude': -58.3986709}              0   \n",
       "1  {'latitude': -34.5935524, 'longitude': -58.5059173}              0   \n",
       "\n",
       "   available_quantity  \n",
       "0                   1  \n",
       "1                   1  "
      ]
     },
     "execution_count": 6,
     "metadata": {},
     "output_type": "execute_result"
    }
   ],
   "source": [
    "df.head(2)"
   ]
  },
  {
   "cell_type": "markdown",
   "id": "1a2871af",
   "metadata": {},
   "source": [
    "### Display DataFrame Summary\n",
    "\n",
    "The `df.info()` function in Pandas provides a concise summary of a DataFrame, including the number of non-null entries, data types, and memory usage, helping you understand the structure of your dataset.\n"
   ]
  },
  {
   "cell_type": "code",
   "execution_count": 7,
   "id": "f99aca60",
   "metadata": {},
   "outputs": [
    {
     "name": "stdout",
     "output_type": "stream",
     "text": [
      "<class 'pandas.core.frame.DataFrame'>\n",
      "RangeIndex: 100000 entries, 0 to 99999\n",
      "Data columns (total 48 columns):\n",
      " #   Column                            Non-Null Count   Dtype              \n",
      "---  ------                            --------------   -----              \n",
      " 0   seller_address                    100000 non-null  object             \n",
      " 1   warranty                          39104 non-null   object             \n",
      " 2   sub_status                        100000 non-null  object             \n",
      " 3   condition                         100000 non-null  object             \n",
      " 4   seller_contact                    2219 non-null    object             \n",
      " 5   deal_ids                          100000 non-null  object             \n",
      " 6   base_price                        100000 non-null  float64            \n",
      " 7   shipping                          100000 non-null  object             \n",
      " 8   non_mercado_pago_payment_methods  100000 non-null  object             \n",
      " 9   seller_id                         100000 non-null  int64              \n",
      " 10  variations                        100000 non-null  object             \n",
      " 11  location                          100000 non-null  object             \n",
      " 12  site_id                           100000 non-null  object             \n",
      " 13  listing_type_id                   100000 non-null  object             \n",
      " 14  price                             100000 non-null  float64            \n",
      " 15  attributes                        100000 non-null  object             \n",
      " 16  buying_mode                       100000 non-null  object             \n",
      " 17  tags                              100000 non-null  object             \n",
      " 18  listing_source                    100000 non-null  object             \n",
      " 19  parent_item_id                    76989 non-null   object             \n",
      " 20  coverage_areas                    100000 non-null  object             \n",
      " 21  category_id                       100000 non-null  object             \n",
      " 22  descriptions                      100000 non-null  object             \n",
      " 23  last_updated                      100000 non-null  object             \n",
      " 24  international_delivery_mode       100000 non-null  object             \n",
      " 25  pictures                          100000 non-null  object             \n",
      " 26  id                                100000 non-null  object             \n",
      " 27  official_store_id                 818 non-null     float64            \n",
      " 28  differential_pricing              0 non-null       float64            \n",
      " 29  accepts_mercadopago               100000 non-null  bool               \n",
      " 30  original_price                    143 non-null     float64            \n",
      " 31  currency_id                       100000 non-null  object             \n",
      " 32  thumbnail                         100000 non-null  object             \n",
      " 33  title                             100000 non-null  object             \n",
      " 34  automatic_relist                  100000 non-null  bool               \n",
      " 35  date_created                      100000 non-null  object             \n",
      " 36  secure_thumbnail                  100000 non-null  object             \n",
      " 37  stop_time                         100000 non-null  datetime64[ns, UTC]\n",
      " 38  status                            100000 non-null  object             \n",
      " 39  video_id                          2985 non-null    object             \n",
      " 40  catalog_product_id                11 non-null      float64            \n",
      " 41  subtitle                          0 non-null       float64            \n",
      " 42  initial_quantity                  100000 non-null  int64              \n",
      " 43  start_time                        100000 non-null  datetime64[ns, UTC]\n",
      " 44  permalink                         100000 non-null  object             \n",
      " 45  geolocation                       100000 non-null  object             \n",
      " 46  sold_quantity                     100000 non-null  int64              \n",
      " 47  available_quantity                100000 non-null  int64              \n",
      "dtypes: bool(2), datetime64[ns, UTC](2), float64(7), int64(4), object(33)\n",
      "memory usage: 35.3+ MB\n"
     ]
    }
   ],
   "source": [
    "df.info()"
   ]
  },
  {
   "cell_type": "markdown",
   "id": "cea22707",
   "metadata": {},
   "source": [
    "### Display Summary Statistics\n",
    "\n",
    "The `df.describe()` function in Pandas generates descriptive statistics for numerical columns in a DataFrame, including measures like mean, standard deviation, minimum, and maximum values, helping to summarize the data distribution.\n"
   ]
  },
  {
   "cell_type": "code",
   "execution_count": 8,
   "id": "d045432c",
   "metadata": {},
   "outputs": [
    {
     "data": {
      "text/html": [
       "<div>\n",
       "<style scoped>\n",
       "    .dataframe tbody tr th:only-of-type {\n",
       "        vertical-align: middle;\n",
       "    }\n",
       "\n",
       "    .dataframe tbody tr th {\n",
       "        vertical-align: top;\n",
       "    }\n",
       "\n",
       "    .dataframe thead th {\n",
       "        text-align: right;\n",
       "    }\n",
       "</style>\n",
       "<table border=\"1\" class=\"dataframe\">\n",
       "  <thead>\n",
       "    <tr style=\"text-align: right;\">\n",
       "      <th></th>\n",
       "      <th>base_price</th>\n",
       "      <th>seller_id</th>\n",
       "      <th>price</th>\n",
       "      <th>official_store_id</th>\n",
       "      <th>differential_pricing</th>\n",
       "      <th>original_price</th>\n",
       "      <th>catalog_product_id</th>\n",
       "      <th>subtitle</th>\n",
       "      <th>initial_quantity</th>\n",
       "      <th>sold_quantity</th>\n",
       "      <th>available_quantity</th>\n",
       "    </tr>\n",
       "  </thead>\n",
       "  <tbody>\n",
       "    <tr>\n",
       "      <th>count</th>\n",
       "      <td>1.000000e+05</td>\n",
       "      <td>1.000000e+05</td>\n",
       "      <td>1.000000e+05</td>\n",
       "      <td>818.000000</td>\n",
       "      <td>0.0</td>\n",
       "      <td>143.000000</td>\n",
       "      <td>1.100000e+01</td>\n",
       "      <td>0.0</td>\n",
       "      <td>100000.000000</td>\n",
       "      <td>100000.000000</td>\n",
       "      <td>100000.000000</td>\n",
       "    </tr>\n",
       "    <tr>\n",
       "      <th>mean</th>\n",
       "      <td>5.252423e+04</td>\n",
       "      <td>8.425269e+07</td>\n",
       "      <td>5.252433e+04</td>\n",
       "      <td>206.443765</td>\n",
       "      <td>NaN</td>\n",
       "      <td>1593.341958</td>\n",
       "      <td>3.727643e+06</td>\n",
       "      <td>NaN</td>\n",
       "      <td>35.093370</td>\n",
       "      <td>2.396990</td>\n",
       "      <td>34.842380</td>\n",
       "    </tr>\n",
       "    <tr>\n",
       "      <th>std</th>\n",
       "      <td>8.623127e+06</td>\n",
       "      <td>5.497257e+07</td>\n",
       "      <td>8.623127e+06</td>\n",
       "      <td>128.252953</td>\n",
       "      <td>NaN</td>\n",
       "      <td>2245.798072</td>\n",
       "      <td>1.884698e+06</td>\n",
       "      <td>NaN</td>\n",
       "      <td>421.076196</td>\n",
       "      <td>42.685077</td>\n",
       "      <td>420.808403</td>\n",
       "    </tr>\n",
       "    <tr>\n",
       "      <th>min</th>\n",
       "      <td>8.400000e-01</td>\n",
       "      <td>1.304000e+03</td>\n",
       "      <td>8.400000e-01</td>\n",
       "      <td>1.000000</td>\n",
       "      <td>NaN</td>\n",
       "      <td>120.000000</td>\n",
       "      <td>9.440400e+04</td>\n",
       "      <td>NaN</td>\n",
       "      <td>1.000000</td>\n",
       "      <td>0.000000</td>\n",
       "      <td>1.000000</td>\n",
       "    </tr>\n",
       "    <tr>\n",
       "      <th>25%</th>\n",
       "      <td>9.000000e+01</td>\n",
       "      <td>3.953591e+07</td>\n",
       "      <td>9.000000e+01</td>\n",
       "      <td>84.000000</td>\n",
       "      <td>NaN</td>\n",
       "      <td>449.000000</td>\n",
       "      <td>3.050702e+06</td>\n",
       "      <td>NaN</td>\n",
       "      <td>1.000000</td>\n",
       "      <td>0.000000</td>\n",
       "      <td>1.000000</td>\n",
       "    </tr>\n",
       "    <tr>\n",
       "      <th>50%</th>\n",
       "      <td>2.500000e+02</td>\n",
       "      <td>7.631063e+07</td>\n",
       "      <td>2.500000e+02</td>\n",
       "      <td>216.000000</td>\n",
       "      <td>NaN</td>\n",
       "      <td>858.000000</td>\n",
       "      <td>5.093232e+06</td>\n",
       "      <td>NaN</td>\n",
       "      <td>1.000000</td>\n",
       "      <td>0.000000</td>\n",
       "      <td>1.000000</td>\n",
       "    </tr>\n",
       "    <tr>\n",
       "      <th>75%</th>\n",
       "      <td>8.000000e+02</td>\n",
       "      <td>1.325659e+08</td>\n",
       "      <td>8.000000e+02</td>\n",
       "      <td>312.750000</td>\n",
       "      <td>NaN</td>\n",
       "      <td>1500.000000</td>\n",
       "      <td>5.103216e+06</td>\n",
       "      <td>NaN</td>\n",
       "      <td>2.000000</td>\n",
       "      <td>0.000000</td>\n",
       "      <td>2.000000</td>\n",
       "    </tr>\n",
       "    <tr>\n",
       "      <th>max</th>\n",
       "      <td>2.222222e+09</td>\n",
       "      <td>1.946906e+08</td>\n",
       "      <td>2.222222e+09</td>\n",
       "      <td>446.000000</td>\n",
       "      <td>NaN</td>\n",
       "      <td>13999.000000</td>\n",
       "      <td>5.434513e+06</td>\n",
       "      <td>NaN</td>\n",
       "      <td>9999.000000</td>\n",
       "      <td>8676.000000</td>\n",
       "      <td>9999.000000</td>\n",
       "    </tr>\n",
       "  </tbody>\n",
       "</table>\n",
       "</div>"
      ],
      "text/plain": [
       "         base_price     seller_id         price  official_store_id  \\\n",
       "count  1.000000e+05  1.000000e+05  1.000000e+05         818.000000   \n",
       "mean   5.252423e+04  8.425269e+07  5.252433e+04         206.443765   \n",
       "std    8.623127e+06  5.497257e+07  8.623127e+06         128.252953   \n",
       "min    8.400000e-01  1.304000e+03  8.400000e-01           1.000000   \n",
       "25%    9.000000e+01  3.953591e+07  9.000000e+01          84.000000   \n",
       "50%    2.500000e+02  7.631063e+07  2.500000e+02         216.000000   \n",
       "75%    8.000000e+02  1.325659e+08  8.000000e+02         312.750000   \n",
       "max    2.222222e+09  1.946906e+08  2.222222e+09         446.000000   \n",
       "\n",
       "       differential_pricing  original_price  catalog_product_id  subtitle  \\\n",
       "count                   0.0      143.000000        1.100000e+01       0.0   \n",
       "mean                    NaN     1593.341958        3.727643e+06       NaN   \n",
       "std                     NaN     2245.798072        1.884698e+06       NaN   \n",
       "min                     NaN      120.000000        9.440400e+04       NaN   \n",
       "25%                     NaN      449.000000        3.050702e+06       NaN   \n",
       "50%                     NaN      858.000000        5.093232e+06       NaN   \n",
       "75%                     NaN     1500.000000        5.103216e+06       NaN   \n",
       "max                     NaN    13999.000000        5.434513e+06       NaN   \n",
       "\n",
       "       initial_quantity  sold_quantity  available_quantity  \n",
       "count     100000.000000  100000.000000       100000.000000  \n",
       "mean          35.093370       2.396990           34.842380  \n",
       "std          421.076196      42.685077          420.808403  \n",
       "min            1.000000       0.000000            1.000000  \n",
       "25%            1.000000       0.000000            1.000000  \n",
       "50%            1.000000       0.000000            1.000000  \n",
       "75%            2.000000       0.000000            2.000000  \n",
       "max         9999.000000    8676.000000         9999.000000  "
      ]
     },
     "execution_count": 8,
     "metadata": {},
     "output_type": "execute_result"
    }
   ],
   "source": [
    "df.describe()"
   ]
  },
  {
   "cell_type": "markdown",
   "id": "ebd40f88",
   "metadata": {},
   "source": [
    "### Count Missing Values\n",
    "\n",
    "The `df.isnull().sum()` function in Pandas returns the total number of missing (null) values in each column of a DataFrame, helping you quickly identify columns with missing data.\n"
   ]
  },
  {
   "cell_type": "code",
   "execution_count": 9,
   "id": "84a8fadc",
   "metadata": {},
   "outputs": [
    {
     "data": {
      "text/plain": [
       "seller_address                           0\n",
       "warranty                             60896\n",
       "sub_status                               0\n",
       "condition                                0\n",
       "seller_contact                       97781\n",
       "deal_ids                                 0\n",
       "base_price                               0\n",
       "shipping                                 0\n",
       "non_mercado_pago_payment_methods         0\n",
       "seller_id                                0\n",
       "variations                               0\n",
       "location                                 0\n",
       "site_id                                  0\n",
       "listing_type_id                          0\n",
       "price                                    0\n",
       "attributes                               0\n",
       "buying_mode                              0\n",
       "tags                                     0\n",
       "listing_source                           0\n",
       "parent_item_id                       23011\n",
       "coverage_areas                           0\n",
       "category_id                              0\n",
       "descriptions                             0\n",
       "last_updated                             0\n",
       "international_delivery_mode              0\n",
       "pictures                                 0\n",
       "id                                       0\n",
       "official_store_id                    99182\n",
       "differential_pricing                100000\n",
       "accepts_mercadopago                      0\n",
       "original_price                       99857\n",
       "currency_id                              0\n",
       "thumbnail                                0\n",
       "title                                    0\n",
       "automatic_relist                         0\n",
       "date_created                             0\n",
       "secure_thumbnail                         0\n",
       "stop_time                                0\n",
       "status                                   0\n",
       "video_id                             97015\n",
       "catalog_product_id                   99989\n",
       "subtitle                            100000\n",
       "initial_quantity                         0\n",
       "start_time                               0\n",
       "permalink                                0\n",
       "geolocation                              0\n",
       "sold_quantity                            0\n",
       "available_quantity                       0\n",
       "dtype: int64"
      ]
     },
     "execution_count": 9,
     "metadata": {},
     "output_type": "execute_result"
    }
   ],
   "source": [
    "df.isnull().sum()"
   ]
  },
  {
   "cell_type": "markdown",
   "id": "767c13af",
   "metadata": {},
   "source": [
    "---"
   ]
  },
  {
   "cell_type": "markdown",
   "id": "2928b1ae",
   "metadata": {},
   "source": [
    "### Count Duplicated IDs\n",
    "\n",
    "This code checks for duplicated values in the 'id' column of the DataFrame and counts how many duplicated entries exist. The result is showing that there aren't duplicated IDs (`0 duplicated`)\n"
   ]
  },
  {
   "cell_type": "code",
   "execution_count": 10,
   "id": "4fdd61d1",
   "metadata": {},
   "outputs": [
    {
     "name": "stdout",
     "output_type": "stream",
     "text": [
      "IDs duplicated: 0\n"
     ]
    }
   ],
   "source": [
    "dup_count = df['id'].duplicated().sum()\n",
    "print(f\"IDs duplicated: {dup_count}\")"
   ]
  },
  {
   "cell_type": "code",
   "execution_count": 11,
   "id": "1d3fc0d6",
   "metadata": {},
   "outputs": [
    {
     "data": {
      "text/plain": [
       "status\n",
       "active            95675\n",
       "paused             4304\n",
       "closed               20\n",
       "not_yet_active        1\n",
       "Name: count, dtype: int64"
      ]
     },
     "execution_count": 11,
     "metadata": {},
     "output_type": "execute_result"
    }
   ],
   "source": [
    "count_status = df[\"status\"].value_counts()\n",
    "count_status"
   ]
  },
  {
   "cell_type": "code",
   "execution_count": 12,
   "id": "76816aef",
   "metadata": {},
   "outputs": [
    {
     "data": {
      "text/plain": [
       "condition\n",
       "new     53758\n",
       "used    46242\n",
       "Name: count, dtype: int64"
      ]
     },
     "execution_count": 12,
     "metadata": {},
     "output_type": "execute_result"
    }
   ],
   "source": [
    "count_condition = df[\"condition\"].value_counts()\n",
    "count_condition"
   ]
  },
  {
   "cell_type": "code",
   "execution_count": 13,
   "id": "ba308ca2",
   "metadata": {},
   "outputs": [
    {
     "data": {
      "text/plain": [
       "buying_mode\n",
       "buy_it_now    97001\n",
       "classified     2219\n",
       "auction         780\n",
       "Name: count, dtype: int64"
      ]
     },
     "execution_count": 13,
     "metadata": {},
     "output_type": "execute_result"
    }
   ],
   "source": [
    "count_buying = df[\"buying_mode\"].value_counts()\n",
    "count_buying"
   ]
  },
  {
   "cell_type": "code",
   "execution_count": 14,
   "id": "b06855a8",
   "metadata": {},
   "outputs": [],
   "source": [
    "drop_cols = [\n",
    "    'seller_address', 'warranty', 'sub_status', 'seller_contact', 'deal_ids',\n",
    "    'variations', 'location', 'site_id', 'listing_source','parent_item_id', 'coverage_areas', 'attributes', 'descriptions', 'pictures',\n",
    "    'thumbnail', 'secure_thumbnail', 'video_id', 'permalink', 'date_created','stop_time', 'start_time', 'official_store_id', \n",
    "    'differential_pricing', 'accepts_mercadopago', 'currency_id', 'catalog_product_id', 'tags',\n",
    "    'automatic_relist', 'seller_id','subtitle', 'original_price', 'id','title', 'base_price', \n",
    "    'category_id', 'international_delivery_mode', 'sold_quantity', 'geolocation', 'last_updated'\n",
    "]\n",
    "\n",
    "cols_to_drop = [c for c in drop_cols if c in df.columns]\n",
    "logging.info(f\"Dropping {len(cols_to_drop)} columns: {cols_to_drop}\")\n",
    "df.drop(columns=cols_to_drop, inplace=True)\n",
    "logging.info(f\"DataFrame shape after drop: {df.shape}\")"
   ]
  },
  {
   "cell_type": "markdown",
   "id": "895e402a",
   "metadata": {},
   "source": [
    "---\n",
    "### values nulls but with the new datafream"
   ]
  },
  {
   "cell_type": "code",
   "execution_count": 15,
   "id": "ce9388e6",
   "metadata": {},
   "outputs": [
    {
     "data": {
      "text/plain": [
       "condition                           0\n",
       "shipping                            0\n",
       "non_mercado_pago_payment_methods    0\n",
       "listing_type_id                     0\n",
       "price                               0\n",
       "buying_mode                         0\n",
       "status                              0\n",
       "initial_quantity                    0\n",
       "available_quantity                  0\n",
       "dtype: int64"
      ]
     },
     "execution_count": 15,
     "metadata": {},
     "output_type": "execute_result"
    }
   ],
   "source": [
    "df.isnull().sum()"
   ]
  },
  {
   "cell_type": "markdown",
   "id": "2b86ccc1",
   "metadata": {},
   "source": [
    "---\n"
   ]
  },
  {
   "cell_type": "code",
   "execution_count": 16,
   "id": "c5b5fff7",
   "metadata": {},
   "outputs": [
    {
     "data": {
      "text/html": [
       "<div>\n",
       "<style scoped>\n",
       "    .dataframe tbody tr th:only-of-type {\n",
       "        vertical-align: middle;\n",
       "    }\n",
       "\n",
       "    .dataframe tbody tr th {\n",
       "        vertical-align: top;\n",
       "    }\n",
       "\n",
       "    .dataframe thead th {\n",
       "        text-align: right;\n",
       "    }\n",
       "</style>\n",
       "<table border=\"1\" class=\"dataframe\">\n",
       "  <thead>\n",
       "    <tr style=\"text-align: right;\">\n",
       "      <th></th>\n",
       "      <th>condition</th>\n",
       "      <th>shipping</th>\n",
       "      <th>non_mercado_pago_payment_methods</th>\n",
       "      <th>listing_type_id</th>\n",
       "      <th>price</th>\n",
       "      <th>buying_mode</th>\n",
       "      <th>status</th>\n",
       "      <th>initial_quantity</th>\n",
       "      <th>available_quantity</th>\n",
       "    </tr>\n",
       "  </thead>\n",
       "  <tbody>\n",
       "    <tr>\n",
       "      <th>0</th>\n",
       "      <td>new</td>\n",
       "      <td>{'local_pick_up': True, 'methods': [], 'tags': [], 'free_shipping': False, 'mode': 'not_specified', 'dimensions': None}</td>\n",
       "      <td>[{'description': 'Transferencia bancaria', 'id': 'MLATB', 'type': 'G'}, {'description': 'Acordar con el comprador', 'id': 'MLAWC', 'type': 'G'}, {'description': 'Efectivo', 'id': 'MLAMO', 'type': 'G'}]</td>\n",
       "      <td>bronze</td>\n",
       "      <td>80.0</td>\n",
       "      <td>buy_it_now</td>\n",
       "      <td>active</td>\n",
       "      <td>1</td>\n",
       "      <td>1</td>\n",
       "    </tr>\n",
       "    <tr>\n",
       "      <th>1</th>\n",
       "      <td>used</td>\n",
       "      <td>{'local_pick_up': True, 'methods': [], 'tags': [], 'free_shipping': False, 'mode': 'me2', 'dimensions': None}</td>\n",
       "      <td>[{'description': 'Transferencia bancaria', 'id': 'MLATB', 'type': 'G'}, {'description': 'Efectivo', 'id': 'MLAMO', 'type': 'G'}]</td>\n",
       "      <td>silver</td>\n",
       "      <td>2650.0</td>\n",
       "      <td>buy_it_now</td>\n",
       "      <td>active</td>\n",
       "      <td>1</td>\n",
       "      <td>1</td>\n",
       "    </tr>\n",
       "    <tr>\n",
       "      <th>2</th>\n",
       "      <td>used</td>\n",
       "      <td>{'local_pick_up': True, 'methods': [], 'tags': [], 'free_shipping': False, 'mode': 'me2', 'dimensions': None}</td>\n",
       "      <td>[{'description': 'Transferencia bancaria', 'id': 'MLATB', 'type': 'G'}, {'description': 'Tarjeta de crédito', 'id': 'MLAOT', 'type': 'N'}, {'description': 'Efectivo', 'id': 'MLAMO', 'type': 'G'}]</td>\n",
       "      <td>bronze</td>\n",
       "      <td>60.0</td>\n",
       "      <td>buy_it_now</td>\n",
       "      <td>active</td>\n",
       "      <td>1</td>\n",
       "      <td>1</td>\n",
       "    </tr>\n",
       "    <tr>\n",
       "      <th>3</th>\n",
       "      <td>new</td>\n",
       "      <td>{'local_pick_up': True, 'methods': [], 'tags': [], 'free_shipping': False, 'mode': 'me2', 'dimensions': None}</td>\n",
       "      <td>[{'description': 'Transferencia bancaria', 'id': 'MLATB', 'type': 'G'}, {'description': 'Tarjeta de crédito', 'id': 'MLAOT', 'type': 'N'}, {'description': 'Efectivo', 'id': 'MLAMO', 'type': 'G'}]</td>\n",
       "      <td>silver</td>\n",
       "      <td>580.0</td>\n",
       "      <td>buy_it_now</td>\n",
       "      <td>active</td>\n",
       "      <td>1</td>\n",
       "      <td>1</td>\n",
       "    </tr>\n",
       "    <tr>\n",
       "      <th>4</th>\n",
       "      <td>used</td>\n",
       "      <td>{'local_pick_up': True, 'methods': [], 'tags': [], 'free_shipping': False, 'mode': 'not_specified', 'dimensions': None}</td>\n",
       "      <td>[{'description': 'Transferencia bancaria', 'id': 'MLATB', 'type': 'G'}, {'description': 'Acordar con el comprador', 'id': 'MLAWC', 'type': 'G'}, {'description': 'Efectivo', 'id': 'MLAMO', 'type': 'G'}]</td>\n",
       "      <td>bronze</td>\n",
       "      <td>30.0</td>\n",
       "      <td>buy_it_now</td>\n",
       "      <td>active</td>\n",
       "      <td>1</td>\n",
       "      <td>1</td>\n",
       "    </tr>\n",
       "  </tbody>\n",
       "</table>\n",
       "</div>"
      ],
      "text/plain": [
       "  condition  \\\n",
       "0       new   \n",
       "1      used   \n",
       "2      used   \n",
       "3       new   \n",
       "4      used   \n",
       "\n",
       "                                                                                                                  shipping  \\\n",
       "0  {'local_pick_up': True, 'methods': [], 'tags': [], 'free_shipping': False, 'mode': 'not_specified', 'dimensions': None}   \n",
       "1            {'local_pick_up': True, 'methods': [], 'tags': [], 'free_shipping': False, 'mode': 'me2', 'dimensions': None}   \n",
       "2            {'local_pick_up': True, 'methods': [], 'tags': [], 'free_shipping': False, 'mode': 'me2', 'dimensions': None}   \n",
       "3            {'local_pick_up': True, 'methods': [], 'tags': [], 'free_shipping': False, 'mode': 'me2', 'dimensions': None}   \n",
       "4  {'local_pick_up': True, 'methods': [], 'tags': [], 'free_shipping': False, 'mode': 'not_specified', 'dimensions': None}   \n",
       "\n",
       "                                                                                                                                                                            non_mercado_pago_payment_methods  \\\n",
       "0  [{'description': 'Transferencia bancaria', 'id': 'MLATB', 'type': 'G'}, {'description': 'Acordar con el comprador', 'id': 'MLAWC', 'type': 'G'}, {'description': 'Efectivo', 'id': 'MLAMO', 'type': 'G'}]   \n",
       "1                                                                           [{'description': 'Transferencia bancaria', 'id': 'MLATB', 'type': 'G'}, {'description': 'Efectivo', 'id': 'MLAMO', 'type': 'G'}]   \n",
       "2        [{'description': 'Transferencia bancaria', 'id': 'MLATB', 'type': 'G'}, {'description': 'Tarjeta de crédito', 'id': 'MLAOT', 'type': 'N'}, {'description': 'Efectivo', 'id': 'MLAMO', 'type': 'G'}]   \n",
       "3        [{'description': 'Transferencia bancaria', 'id': 'MLATB', 'type': 'G'}, {'description': 'Tarjeta de crédito', 'id': 'MLAOT', 'type': 'N'}, {'description': 'Efectivo', 'id': 'MLAMO', 'type': 'G'}]   \n",
       "4  [{'description': 'Transferencia bancaria', 'id': 'MLATB', 'type': 'G'}, {'description': 'Acordar con el comprador', 'id': 'MLAWC', 'type': 'G'}, {'description': 'Efectivo', 'id': 'MLAMO', 'type': 'G'}]   \n",
       "\n",
       "  listing_type_id   price buying_mode  status  initial_quantity  \\\n",
       "0          bronze    80.0  buy_it_now  active                 1   \n",
       "1          silver  2650.0  buy_it_now  active                 1   \n",
       "2          bronze    60.0  buy_it_now  active                 1   \n",
       "3          silver   580.0  buy_it_now  active                 1   \n",
       "4          bronze    30.0  buy_it_now  active                 1   \n",
       "\n",
       "   available_quantity  \n",
       "0                   1  \n",
       "1                   1  \n",
       "2                   1  \n",
       "3                   1  \n",
       "4                   1  "
      ]
     },
     "execution_count": 16,
     "metadata": {},
     "output_type": "execute_result"
    }
   ],
   "source": [
    "df.head()"
   ]
  },
  {
   "cell_type": "markdown",
   "id": "58c94450",
   "metadata": {},
   "source": [
    "--- \n"
   ]
  },
  {
   "cell_type": "code",
   "execution_count": 17,
   "id": "8c6ebb3e",
   "metadata": {},
   "outputs": [],
   "source": [
    "#Shipping → free_shipping & shipping_mode\n",
    "if 'shipping' in df.columns:\n",
    "    df['free_shipping'] = df['shipping'].apply(lambda x: x.get('free_shipping') if isinstance(x, dict) else False)\n",
    "    df['shipping_mode']   = df['shipping'].apply(lambda x: x.get('mode')         if isinstance(x, dict) else None)\n",
    "    df.drop(columns=['shipping'], inplace=True)\n",
    "    logging.info(\"Extracted 'free_shipping' & 'shipping_mode', dropped 'shipping'\")\n",
    "else:\n",
    "    logging.warning(\"'shipping' not in DataFrame; skipping\")\n",
    "\n",
    "# non_mp_pay_count\n",
    "df['non_mp_pay_count'] = df['non_mercado_pago_payment_methods'] \\\n",
    "    .apply(lambda m: len(m) if isinstance(m, (list, tuple)) else 0)\n",
    "df.drop(columns=['non_mercado_pago_payment_methods'], inplace=True)\n",
    "logging.info(\"Built 'non_mp_pay_count', dropped original\")\n",
    "\n",
    "\n",
    "# Encode categoricals\n",
    "cat_cols = [\n",
    "    'condition', 'buying_mode',\n",
    "    'status', 'shipping_mode'\n",
    "]\n",
    "for c in cat_cols:\n",
    "    df[c] = df[c].astype('category').cat.codes\n",
    "logging.info(f\"Encoded categoricals: {cat_cols}\")\n",
    "\n",
    "\n",
    "logging.info(f\"Final DataFrame shape: {df.shape}\")\n"
   ]
  },
  {
   "cell_type": "markdown",
   "id": "93ab718f",
   "metadata": {},
   "source": [
    "## Feature Transformation Rationale\n",
    "\n",
    "This final block prepares all remaining columns for modeling by converting complex or nested data into simple, numerical features:\n",
    "\n",
    "- **Shipping → free_shipping & shipping_mode**  \n",
    "  Separates cost indicator (free vs paid) and delivery method for clearer signal extraction.\n",
    "\n",
    "- **non_mp_pay_count**  \n",
    "  Quantifies payment flexibility by counting non-MercadoPago methods.\n",
    "\n",
    "- **Categorical encoding**  \n",
    "  Transforms all remaining categories into integer codes for direct compatibility with ML algorithms.\n",
    "  - __status:__ active: 0 paused: 1 closed: 2 not_yet_active: 3\n",
    "  - __condition:__ new: 0 & used: 1\n"
   ]
  },
  {
   "cell_type": "markdown",
   "id": "d6fecd19",
   "metadata": {},
   "source": [
    "---"
   ]
  },
  {
   "cell_type": "markdown",
   "id": "12a63c9f",
   "metadata": {},
   "source": [
    "### Quick column summary\n",
    "\n",
    "Based on the column summary, all 17 features contain complete data with no missing values, combining low‐cardinality categorical fields (e.g. `condition`, `free_shipping`, `shipping_mode`, `international_delivery_mode`) and higher‐cardinality identifiers or continuous variables (`price`, `category_id`, `latitude`, `longitude`, `pct_sold`). Numeric quantity fields (`initial_quantity`, `sold_quantity`, `available_quantity`) offer moderate variance, while spatial coordinates and timestamp-derived values exhibit broad dispersion, indicating a diverse feature set ready for modeling.  \n"
   ]
  },
  {
   "cell_type": "code",
   "execution_count": 18,
   "id": "d2021b2c",
   "metadata": {},
   "outputs": [
    {
     "data": {
      "text/html": [
       "<div>\n",
       "<style scoped>\n",
       "    .dataframe tbody tr th:only-of-type {\n",
       "        vertical-align: middle;\n",
       "    }\n",
       "\n",
       "    .dataframe tbody tr th {\n",
       "        vertical-align: top;\n",
       "    }\n",
       "\n",
       "    .dataframe thead th {\n",
       "        text-align: right;\n",
       "    }\n",
       "</style>\n",
       "<table border=\"1\" class=\"dataframe\">\n",
       "  <thead>\n",
       "    <tr style=\"text-align: right;\">\n",
       "      <th></th>\n",
       "      <th>dtype</th>\n",
       "      <th>missing %</th>\n",
       "      <th>unique vals</th>\n",
       "    </tr>\n",
       "  </thead>\n",
       "  <tbody>\n",
       "    <tr>\n",
       "      <th>condition</th>\n",
       "      <td>int8</td>\n",
       "      <td>0.0</td>\n",
       "      <td>2</td>\n",
       "    </tr>\n",
       "    <tr>\n",
       "      <th>listing_type_id</th>\n",
       "      <td>object</td>\n",
       "      <td>0.0</td>\n",
       "      <td>7</td>\n",
       "    </tr>\n",
       "    <tr>\n",
       "      <th>price</th>\n",
       "      <td>float64</td>\n",
       "      <td>0.0</td>\n",
       "      <td>10331</td>\n",
       "    </tr>\n",
       "    <tr>\n",
       "      <th>buying_mode</th>\n",
       "      <td>int8</td>\n",
       "      <td>0.0</td>\n",
       "      <td>3</td>\n",
       "    </tr>\n",
       "    <tr>\n",
       "      <th>status</th>\n",
       "      <td>int8</td>\n",
       "      <td>0.0</td>\n",
       "      <td>4</td>\n",
       "    </tr>\n",
       "    <tr>\n",
       "      <th>initial_quantity</th>\n",
       "      <td>int64</td>\n",
       "      <td>0.0</td>\n",
       "      <td>450</td>\n",
       "    </tr>\n",
       "    <tr>\n",
       "      <th>available_quantity</th>\n",
       "      <td>int64</td>\n",
       "      <td>0.0</td>\n",
       "      <td>468</td>\n",
       "    </tr>\n",
       "    <tr>\n",
       "      <th>free_shipping</th>\n",
       "      <td>bool</td>\n",
       "      <td>0.0</td>\n",
       "      <td>2</td>\n",
       "    </tr>\n",
       "    <tr>\n",
       "      <th>shipping_mode</th>\n",
       "      <td>int8</td>\n",
       "      <td>0.0</td>\n",
       "      <td>4</td>\n",
       "    </tr>\n",
       "    <tr>\n",
       "      <th>non_mp_pay_count</th>\n",
       "      <td>int64</td>\n",
       "      <td>0.0</td>\n",
       "      <td>13</td>\n",
       "    </tr>\n",
       "  </tbody>\n",
       "</table>\n",
       "</div>"
      ],
      "text/plain": [
       "                      dtype  missing %  unique vals\n",
       "condition              int8        0.0            2\n",
       "listing_type_id      object        0.0            7\n",
       "price               float64        0.0        10331\n",
       "buying_mode            int8        0.0            3\n",
       "status                 int8        0.0            4\n",
       "initial_quantity      int64        0.0          450\n",
       "available_quantity    int64        0.0          468\n",
       "free_shipping          bool        0.0            2\n",
       "shipping_mode          int8        0.0            4\n",
       "non_mp_pay_count      int64        0.0           13"
      ]
     },
     "execution_count": 18,
     "metadata": {},
     "output_type": "execute_result"
    }
   ],
   "source": [
    "col_summary = pd.DataFrame({\n",
    "    'dtype':       df.dtypes,\n",
    "    'missing %':   df.isna().mean() * 100,\n",
    "    'unique vals': df.nunique()\n",
    "})\n",
    "col_summary"
   ]
  },
  {
   "cell_type": "markdown",
   "id": "02268208",
   "metadata": {},
   "source": [
    "---"
   ]
  },
  {
   "cell_type": "markdown",
   "id": "6332eda1",
   "metadata": {},
   "source": [
    "### Count by Condition\n",
    "\n",
    "The bar chart shows that roughly 54,000 items are labeled condition 0 and about 46,000 items are labeled condition 1, indicating a moderate skew toward condition 0 in the dataset.\n"
   ]
  },
  {
   "cell_type": "code",
   "execution_count": 19,
   "id": "49a2baa5",
   "metadata": {},
   "outputs": [
    {
     "data": {
      "image/png": "[encoded data removed]",
      "text/plain": [
       "<Figure size 640x480 with 1 Axes>"
      ]
     },
     "metadata": {},
     "output_type": "display_data"
    }
   ],
   "source": [
    "df['condition'].value_counts().plot(kind='bar', rot=0)\n",
    "plt.title('Count by condition')\n",
    "plt.ylabel('Count')\n",
    "plt.show()\n"
   ]
  },
  {
   "cell_type": "markdown",
   "id": "e46d3dac",
   "metadata": {},
   "source": [
    "---\n",
    "### Log-Transformed Price Distribution\n",
    "\n",
    "The log-scaled histogram of `log1p(price)` reveals a near-normal distribution after transformation, concentrating most listings between values of 4 and 7 (original prices roughly \\$54 to \\$1,096) and exposing a smaller tail of very high-priced items, confirming that a log transform effectively mitigates right skew for modeling.  \n"
   ]
  },
  {
   "cell_type": "code",
   "execution_count": 20,
   "id": "bcd0b539",
   "metadata": {},
   "outputs": [
    {
     "data": {
      "image/png": "[encoded data removed]",
      "text/plain": [
       "<Figure size 640x480 with 1 Axes>"
      ]
     },
     "metadata": {},
     "output_type": "display_data"
    }
   ],
   "source": [
    "price_log = np.log1p(df['price'])\n",
    "plt.figure()\n",
    "sns.histplot(price_log, bins=30, kde=False)\n",
    "plt.title('Log-transformed Price Distribution')\n",
    "plt.xlabel('log1p(Price)')\n",
    "plt.show()\n"
   ]
  },
  {
   "cell_type": "markdown",
   "id": "7db4a439",
   "metadata": {},
   "source": [
    "---\n",
    "### Price Summary Statistics\n",
    "\n",
    "The `price` variable ranges from \\$0.84 to \\$2.22 billion, with a mean of \\$52,524 and a median of \\$250, highlighting a strongly right-skewed distribution. The interquartile range spans \\$90 to \\$800, and the large standard deviation (~\\$8.6 million) confirms the presence of extreme outliers.  \n"
   ]
  },
  {
   "cell_type": "code",
   "execution_count": 21,
   "id": "9e768088",
   "metadata": {},
   "outputs": [
    {
     "data": {
      "text/plain": [
       "count    1.000000e+05\n",
       "mean     5.252433e+04\n",
       "std      8.623127e+06\n",
       "min      8.400000e-01\n",
       "25%      9.000000e+01\n",
       "50%      2.500000e+02\n",
       "75%      8.000000e+02\n",
       "max      2.222222e+09\n",
       "Name: price, dtype: float64"
      ]
     },
     "execution_count": 21,
     "metadata": {},
     "output_type": "execute_result"
    }
   ],
   "source": [
    "df['price'].describe(percentiles=[.25, .5, .75])"
   ]
  },
  {
   "cell_type": "markdown",
   "id": "6e68031f",
   "metadata": {},
   "source": [
    "### Save the dataframe cleaned with all transformations"
   ]
  },
  {
   "cell_type": "code",
   "execution_count": 22,
   "id": "a5e49ce7",
   "metadata": {},
   "outputs": [],
   "source": [
    "df.to_csv('data_clean/mla_eda.csv', index=False)"
   ]
  },
  {
   "cell_type": "code",
   "execution_count": null,
   "id": "8330ad03",
   "metadata": {},
   "outputs": [],
   "source": []
  }
 ],
 "metadata": {
  "kernelspec": {
   "display_name": "Python 3",
   "language": "python",
   "name": "python3"
  },
  "language_info": {
   "codemirror_mode": {
    "name": "ipython",
    "version": 3
   },
   "file_extension": ".py",
   "mimetype": "text/x-python",
   "name": "python",
   "nbconvert_exporter": "python",
   "pygments_lexer": "ipython3",
   "version": "3.11.5"
  }
 },
 "nbformat": 4,
 "nbformat_minor": 5
}
